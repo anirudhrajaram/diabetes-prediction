{
 "cells": [
  {
   "cell_type": "markdown",
   "metadata": {},
   "source": [
    "# Importing packages and dataset information"
   ]
  },
  {
   "cell_type": "code",
   "execution_count": 1,
   "metadata": {},
   "outputs": [],
   "source": [
    "import warnings\n",
    "warnings.filterwarnings('ignore')\n",
    "import numpy as np\n",
    "import matplotlib.pyplot as plt\n",
    "import seaborn as sns\n",
    "import pandas as pd\n",
    "from sklearn.metrics import *"
   ]
  },
  {
   "cell_type": "code",
   "execution_count": 3,
   "metadata": {},
   "outputs": [],
   "source": [
    "diabetes=pd.read_csv('diabetes.csv')"
   ]
  },
  {
   "cell_type": "code",
   "execution_count": 4,
   "metadata": {},
   "outputs": [
    {
     "data": {
      "text/html": [
       "<div>\n",
       "<style scoped>\n",
       "    .dataframe tbody tr th:only-of-type {\n",
       "        vertical-align: middle;\n",
       "    }\n",
       "\n",
       "    .dataframe tbody tr th {\n",
       "        vertical-align: top;\n",
       "    }\n",
       "\n",
       "    .dataframe thead th {\n",
       "        text-align: right;\n",
       "    }\n",
       "</style>\n",
       "<table border=\"1\" class=\"dataframe\">\n",
       "  <thead>\n",
       "    <tr style=\"text-align: right;\">\n",
       "      <th></th>\n",
       "      <th>Pregnancies</th>\n",
       "      <th>Glucose</th>\n",
       "      <th>BloodPressure</th>\n",
       "      <th>SkinThickness</th>\n",
       "      <th>Insulin</th>\n",
       "      <th>BMI</th>\n",
       "      <th>DiabetesPedigreeFunction</th>\n",
       "      <th>Age</th>\n",
       "      <th>Outcome</th>\n",
       "    </tr>\n",
       "  </thead>\n",
       "  <tbody>\n",
       "    <tr>\n",
       "      <th>0</th>\n",
       "      <td>6</td>\n",
       "      <td>148</td>\n",
       "      <td>72</td>\n",
       "      <td>35</td>\n",
       "      <td>0</td>\n",
       "      <td>33.6</td>\n",
       "      <td>0.627</td>\n",
       "      <td>50</td>\n",
       "      <td>1</td>\n",
       "    </tr>\n",
       "    <tr>\n",
       "      <th>1</th>\n",
       "      <td>1</td>\n",
       "      <td>85</td>\n",
       "      <td>66</td>\n",
       "      <td>29</td>\n",
       "      <td>0</td>\n",
       "      <td>26.6</td>\n",
       "      <td>0.351</td>\n",
       "      <td>31</td>\n",
       "      <td>0</td>\n",
       "    </tr>\n",
       "    <tr>\n",
       "      <th>2</th>\n",
       "      <td>8</td>\n",
       "      <td>183</td>\n",
       "      <td>64</td>\n",
       "      <td>0</td>\n",
       "      <td>0</td>\n",
       "      <td>23.3</td>\n",
       "      <td>0.672</td>\n",
       "      <td>32</td>\n",
       "      <td>1</td>\n",
       "    </tr>\n",
       "    <tr>\n",
       "      <th>3</th>\n",
       "      <td>1</td>\n",
       "      <td>89</td>\n",
       "      <td>66</td>\n",
       "      <td>23</td>\n",
       "      <td>94</td>\n",
       "      <td>28.1</td>\n",
       "      <td>0.167</td>\n",
       "      <td>21</td>\n",
       "      <td>0</td>\n",
       "    </tr>\n",
       "    <tr>\n",
       "      <th>4</th>\n",
       "      <td>0</td>\n",
       "      <td>137</td>\n",
       "      <td>40</td>\n",
       "      <td>35</td>\n",
       "      <td>168</td>\n",
       "      <td>43.1</td>\n",
       "      <td>2.288</td>\n",
       "      <td>33</td>\n",
       "      <td>1</td>\n",
       "    </tr>\n",
       "    <tr>\n",
       "      <th>...</th>\n",
       "      <td>...</td>\n",
       "      <td>...</td>\n",
       "      <td>...</td>\n",
       "      <td>...</td>\n",
       "      <td>...</td>\n",
       "      <td>...</td>\n",
       "      <td>...</td>\n",
       "      <td>...</td>\n",
       "      <td>...</td>\n",
       "    </tr>\n",
       "    <tr>\n",
       "      <th>763</th>\n",
       "      <td>10</td>\n",
       "      <td>101</td>\n",
       "      <td>76</td>\n",
       "      <td>48</td>\n",
       "      <td>180</td>\n",
       "      <td>32.9</td>\n",
       "      <td>0.171</td>\n",
       "      <td>63</td>\n",
       "      <td>0</td>\n",
       "    </tr>\n",
       "    <tr>\n",
       "      <th>764</th>\n",
       "      <td>2</td>\n",
       "      <td>122</td>\n",
       "      <td>70</td>\n",
       "      <td>27</td>\n",
       "      <td>0</td>\n",
       "      <td>36.8</td>\n",
       "      <td>0.340</td>\n",
       "      <td>27</td>\n",
       "      <td>0</td>\n",
       "    </tr>\n",
       "    <tr>\n",
       "      <th>765</th>\n",
       "      <td>5</td>\n",
       "      <td>121</td>\n",
       "      <td>72</td>\n",
       "      <td>23</td>\n",
       "      <td>112</td>\n",
       "      <td>26.2</td>\n",
       "      <td>0.245</td>\n",
       "      <td>30</td>\n",
       "      <td>0</td>\n",
       "    </tr>\n",
       "    <tr>\n",
       "      <th>766</th>\n",
       "      <td>1</td>\n",
       "      <td>126</td>\n",
       "      <td>60</td>\n",
       "      <td>0</td>\n",
       "      <td>0</td>\n",
       "      <td>30.1</td>\n",
       "      <td>0.349</td>\n",
       "      <td>47</td>\n",
       "      <td>1</td>\n",
       "    </tr>\n",
       "    <tr>\n",
       "      <th>767</th>\n",
       "      <td>1</td>\n",
       "      <td>93</td>\n",
       "      <td>70</td>\n",
       "      <td>31</td>\n",
       "      <td>0</td>\n",
       "      <td>30.4</td>\n",
       "      <td>0.315</td>\n",
       "      <td>23</td>\n",
       "      <td>0</td>\n",
       "    </tr>\n",
       "  </tbody>\n",
       "</table>\n",
       "<p>768 rows × 9 columns</p>\n",
       "</div>"
      ],
      "text/plain": [
       "     Pregnancies  Glucose  BloodPressure  SkinThickness  Insulin   BMI  \\\n",
       "0              6      148             72             35        0  33.6   \n",
       "1              1       85             66             29        0  26.6   \n",
       "2              8      183             64              0        0  23.3   \n",
       "3              1       89             66             23       94  28.1   \n",
       "4              0      137             40             35      168  43.1   \n",
       "..           ...      ...            ...            ...      ...   ...   \n",
       "763           10      101             76             48      180  32.9   \n",
       "764            2      122             70             27        0  36.8   \n",
       "765            5      121             72             23      112  26.2   \n",
       "766            1      126             60              0        0  30.1   \n",
       "767            1       93             70             31        0  30.4   \n",
       "\n",
       "     DiabetesPedigreeFunction  Age  Outcome  \n",
       "0                       0.627   50        1  \n",
       "1                       0.351   31        0  \n",
       "2                       0.672   32        1  \n",
       "3                       0.167   21        0  \n",
       "4                       2.288   33        1  \n",
       "..                        ...  ...      ...  \n",
       "763                     0.171   63        0  \n",
       "764                     0.340   27        0  \n",
       "765                     0.245   30        0  \n",
       "766                     0.349   47        1  \n",
       "767                     0.315   23        0  \n",
       "\n",
       "[768 rows x 9 columns]"
      ]
     },
     "execution_count": 4,
     "metadata": {},
     "output_type": "execute_result"
    }
   ],
   "source": [
    "diabetes"
   ]
  },
  {
   "cell_type": "code",
   "execution_count": 5,
   "metadata": {},
   "outputs": [
    {
     "name": "stdout",
     "output_type": "stream",
     "text": [
      "<class 'pandas.core.frame.DataFrame'>\n",
      "RangeIndex: 768 entries, 0 to 767\n",
      "Data columns (total 9 columns):\n",
      " #   Column                    Non-Null Count  Dtype  \n",
      "---  ------                    --------------  -----  \n",
      " 0   Pregnancies               768 non-null    int64  \n",
      " 1   Glucose                   768 non-null    int64  \n",
      " 2   BloodPressure             768 non-null    int64  \n",
      " 3   SkinThickness             768 non-null    int64  \n",
      " 4   Insulin                   768 non-null    int64  \n",
      " 5   BMI                       768 non-null    float64\n",
      " 6   DiabetesPedigreeFunction  768 non-null    float64\n",
      " 7   Age                       768 non-null    int64  \n",
      " 8   Outcome                   768 non-null    int64  \n",
      "dtypes: float64(2), int64(7)\n",
      "memory usage: 54.1 KB\n"
     ]
    }
   ],
   "source": [
    "diabetes.info()"
   ]
  },
  {
   "cell_type": "code",
   "execution_count": 6,
   "metadata": {},
   "outputs": [
    {
     "data": {
      "text/html": [
       "<div>\n",
       "<style scoped>\n",
       "    .dataframe tbody tr th:only-of-type {\n",
       "        vertical-align: middle;\n",
       "    }\n",
       "\n",
       "    .dataframe tbody tr th {\n",
       "        vertical-align: top;\n",
       "    }\n",
       "\n",
       "    .dataframe thead th {\n",
       "        text-align: right;\n",
       "    }\n",
       "</style>\n",
       "<table border=\"1\" class=\"dataframe\">\n",
       "  <thead>\n",
       "    <tr style=\"text-align: right;\">\n",
       "      <th></th>\n",
       "      <th>Pregnancies</th>\n",
       "      <th>Glucose</th>\n",
       "      <th>BloodPressure</th>\n",
       "      <th>SkinThickness</th>\n",
       "      <th>Insulin</th>\n",
       "      <th>BMI</th>\n",
       "      <th>DiabetesPedigreeFunction</th>\n",
       "      <th>Age</th>\n",
       "      <th>Outcome</th>\n",
       "    </tr>\n",
       "  </thead>\n",
       "  <tbody>\n",
       "    <tr>\n",
       "      <th>count</th>\n",
       "      <td>768.000000</td>\n",
       "      <td>768.000000</td>\n",
       "      <td>768.000000</td>\n",
       "      <td>768.000000</td>\n",
       "      <td>768.000000</td>\n",
       "      <td>768.000000</td>\n",
       "      <td>768.000000</td>\n",
       "      <td>768.000000</td>\n",
       "      <td>768.000000</td>\n",
       "    </tr>\n",
       "    <tr>\n",
       "      <th>mean</th>\n",
       "      <td>3.845052</td>\n",
       "      <td>120.894531</td>\n",
       "      <td>69.105469</td>\n",
       "      <td>20.536458</td>\n",
       "      <td>79.799479</td>\n",
       "      <td>31.992578</td>\n",
       "      <td>0.471876</td>\n",
       "      <td>33.240885</td>\n",
       "      <td>0.348958</td>\n",
       "    </tr>\n",
       "    <tr>\n",
       "      <th>std</th>\n",
       "      <td>3.369578</td>\n",
       "      <td>31.972618</td>\n",
       "      <td>19.355807</td>\n",
       "      <td>15.952218</td>\n",
       "      <td>115.244002</td>\n",
       "      <td>7.884160</td>\n",
       "      <td>0.331329</td>\n",
       "      <td>11.760232</td>\n",
       "      <td>0.476951</td>\n",
       "    </tr>\n",
       "    <tr>\n",
       "      <th>min</th>\n",
       "      <td>0.000000</td>\n",
       "      <td>0.000000</td>\n",
       "      <td>0.000000</td>\n",
       "      <td>0.000000</td>\n",
       "      <td>0.000000</td>\n",
       "      <td>0.000000</td>\n",
       "      <td>0.078000</td>\n",
       "      <td>21.000000</td>\n",
       "      <td>0.000000</td>\n",
       "    </tr>\n",
       "    <tr>\n",
       "      <th>25%</th>\n",
       "      <td>1.000000</td>\n",
       "      <td>99.000000</td>\n",
       "      <td>62.000000</td>\n",
       "      <td>0.000000</td>\n",
       "      <td>0.000000</td>\n",
       "      <td>27.300000</td>\n",
       "      <td>0.243750</td>\n",
       "      <td>24.000000</td>\n",
       "      <td>0.000000</td>\n",
       "    </tr>\n",
       "    <tr>\n",
       "      <th>50%</th>\n",
       "      <td>3.000000</td>\n",
       "      <td>117.000000</td>\n",
       "      <td>72.000000</td>\n",
       "      <td>23.000000</td>\n",
       "      <td>30.500000</td>\n",
       "      <td>32.000000</td>\n",
       "      <td>0.372500</td>\n",
       "      <td>29.000000</td>\n",
       "      <td>0.000000</td>\n",
       "    </tr>\n",
       "    <tr>\n",
       "      <th>75%</th>\n",
       "      <td>6.000000</td>\n",
       "      <td>140.250000</td>\n",
       "      <td>80.000000</td>\n",
       "      <td>32.000000</td>\n",
       "      <td>127.250000</td>\n",
       "      <td>36.600000</td>\n",
       "      <td>0.626250</td>\n",
       "      <td>41.000000</td>\n",
       "      <td>1.000000</td>\n",
       "    </tr>\n",
       "    <tr>\n",
       "      <th>max</th>\n",
       "      <td>17.000000</td>\n",
       "      <td>199.000000</td>\n",
       "      <td>122.000000</td>\n",
       "      <td>99.000000</td>\n",
       "      <td>846.000000</td>\n",
       "      <td>67.100000</td>\n",
       "      <td>2.420000</td>\n",
       "      <td>81.000000</td>\n",
       "      <td>1.000000</td>\n",
       "    </tr>\n",
       "  </tbody>\n",
       "</table>\n",
       "</div>"
      ],
      "text/plain": [
       "       Pregnancies     Glucose  BloodPressure  SkinThickness     Insulin  \\\n",
       "count   768.000000  768.000000     768.000000     768.000000  768.000000   \n",
       "mean      3.845052  120.894531      69.105469      20.536458   79.799479   \n",
       "std       3.369578   31.972618      19.355807      15.952218  115.244002   \n",
       "min       0.000000    0.000000       0.000000       0.000000    0.000000   \n",
       "25%       1.000000   99.000000      62.000000       0.000000    0.000000   \n",
       "50%       3.000000  117.000000      72.000000      23.000000   30.500000   \n",
       "75%       6.000000  140.250000      80.000000      32.000000  127.250000   \n",
       "max      17.000000  199.000000     122.000000      99.000000  846.000000   \n",
       "\n",
       "              BMI  DiabetesPedigreeFunction         Age     Outcome  \n",
       "count  768.000000                768.000000  768.000000  768.000000  \n",
       "mean    31.992578                  0.471876   33.240885    0.348958  \n",
       "std      7.884160                  0.331329   11.760232    0.476951  \n",
       "min      0.000000                  0.078000   21.000000    0.000000  \n",
       "25%     27.300000                  0.243750   24.000000    0.000000  \n",
       "50%     32.000000                  0.372500   29.000000    0.000000  \n",
       "75%     36.600000                  0.626250   41.000000    1.000000  \n",
       "max     67.100000                  2.420000   81.000000    1.000000  "
      ]
     },
     "execution_count": 6,
     "metadata": {},
     "output_type": "execute_result"
    }
   ],
   "source": [
    "diabetes.describe()"
   ]
  },
  {
   "cell_type": "code",
   "execution_count": 7,
   "metadata": {},
   "outputs": [
    {
     "data": {
      "text/plain": [
       "Pregnancies                 0\n",
       "Glucose                     0\n",
       "BloodPressure               0\n",
       "SkinThickness               0\n",
       "Insulin                     0\n",
       "BMI                         0\n",
       "DiabetesPedigreeFunction    0\n",
       "Age                         0\n",
       "Outcome                     0\n",
       "dtype: int64"
      ]
     },
     "execution_count": 7,
     "metadata": {},
     "output_type": "execute_result"
    }
   ],
   "source": [
    "#preprocessing\n",
    "diabetes.isna().sum()"
   ]
  },
  {
   "cell_type": "markdown",
   "metadata": {},
   "source": [
    "# To check for outliers"
   ]
  },
  {
   "cell_type": "code",
   "execution_count": 8,
   "metadata": {},
   "outputs": [
    {
     "data": {
      "text/plain": [
       "<matplotlib.axes._subplots.AxesSubplot at 0x27d21fadf48>"
      ]
     },
     "execution_count": 8,
     "metadata": {},
     "output_type": "execute_result"
    },
    {
     "data": {
      "image/png": "[encoded data removed]",
      "text/plain": [
       "<Figure size 1296x720 with 1 Axes>"
      ]
     },
     "metadata": {
      "needs_background": "light"
     },
     "output_type": "display_data"
    }
   ],
   "source": [
    "diabetes.boxplot(figsize=(18, 10))"
   ]
  },
  {
   "cell_type": "markdown",
   "metadata": {},
   "source": [
    "# Correlation heatmap"
   ]
  },
  {
   "cell_type": "code",
   "execution_count": 9,
   "metadata": {},
   "outputs": [
    {
     "data": {
      "image/png": "[encoded data removed]",
      "text/plain": [
       "<Figure size 1152x648 with 2 Axes>"
      ]
     },
     "metadata": {
      "needs_background": "light"
     },
     "output_type": "display_data"
    }
   ],
   "source": [
    "corrmatrix = diabetes.corr()\n",
    "plt.figure(figsize=(16,9))\n",
    "sns.heatmap(corrmatrix, annot=True,linewidth = 2, vmin=-1, vmax=1, center= 0,cmap= 'coolwarm')\n",
    "plt.title(\"Heatmap Correlation of Diabetes Prediction\", fontsize = 23)\n",
    "plt.show()"
   ]
  },
  {
   "cell_type": "code",
   "execution_count": 10,
   "metadata": {},
   "outputs": [],
   "source": [
    "# We chose outcome as our target variable\n",
    "from sklearn.model_selection import train_test_split\n",
    "from sklearn.preprocessing import StandardScaler\n",
    "x= diabetes.drop('Outcome',axis=1)\n",
    "Y=diabetes[['Outcome']]\n",
    "\n",
    "#scaling\n",
    "sc = StandardScaler()\n",
    "X = sc.fit_transform(x)\n",
    "\n",
    "X_train, X_test, y_train, y_test = train_test_split(X, Y, random_state = 19)"
   ]
  },
  {
   "cell_type": "markdown",
   "metadata": {},
   "source": [
    "# Logistic Regression"
   ]
  },
  {
   "cell_type": "code",
   "execution_count": 11,
   "metadata": {},
   "outputs": [
    {
     "data": {
      "text/plain": [
       "{'C': 0.1, 'penalty': 'l2'}"
      ]
     },
     "execution_count": 11,
     "metadata": {},
     "output_type": "execute_result"
    }
   ],
   "source": [
    "#fitting models and checking accuracies\n",
    "from sklearn.linear_model import LogisticRegression\n",
    "from sklearn.model_selection import GridSearchCV\n",
    "\n",
    "lr = LogisticRegression(random_state=19)\n",
    "parameter_grid_lr = {'C': [0.01, 0.1, 1, 2, 10, 100], 'penalty': ['l1', 'l2']}\n",
    "\n",
    "gridsearch_lr = GridSearchCV(lr, parameter_grid_lr)\n",
    "gridsearch_lr.fit(X_train, y_train);\n",
    "\n",
    "#Get best hyperparameters\n",
    "gridsearch_lr.best_params_"
   ]
  },
  {
   "cell_type": "code",
   "execution_count": 12,
   "metadata": {},
   "outputs": [
    {
     "name": "stdout",
     "output_type": "stream",
     "text": [
      "Train accuracy =77.08%\n",
      "Test accuracy =78.12%\n"
     ]
    }
   ],
   "source": [
    "lr_best = LogisticRegression(C=0.1,penalty='l2',random_state=19)\n",
    "lr_best.fit(X_train, y_train)\n",
    "\n",
    "train_acc_lr=lr_best.score(X_train,y_train)*100\n",
    "test_acc_lr=lr_best.score(X_test,y_test)*100\n",
    "print (\"Train accuracy ={:.2f}%\".format(lr_best.score(X_train,y_train)*100))\n",
    "print (\"Test accuracy ={:.2f}%\".format(lr_best.score(X_test,y_test)*100))"
   ]
  },
  {
   "cell_type": "code",
   "execution_count": 13,
   "metadata": {},
   "outputs": [
    {
     "name": "stdout",
     "output_type": "stream",
     "text": [
      "[[117  12]\n",
      " [ 30  33]]\n"
     ]
    }
   ],
   "source": [
    "y_pred_lr=lr_best.predict(X_test)\n",
    "\n",
    "#This is the confusion matrix:\n",
    "from sklearn.metrics import confusion_matrix\n",
    "print(confusion_matrix(y_test,y_pred_lr))"
   ]
  },
  {
   "cell_type": "code",
   "execution_count": 14,
   "metadata": {},
   "outputs": [
    {
     "name": "stdout",
     "output_type": "stream",
     "text": [
      "              precision    recall  f1-score   support\n",
      "\n",
      "           0       0.80      0.91      0.85       129\n",
      "           1       0.73      0.52      0.61        63\n",
      "\n",
      "    accuracy                           0.78       192\n",
      "   macro avg       0.76      0.72      0.73       192\n",
      "weighted avg       0.78      0.78      0.77       192\n",
      "\n",
      "Area Under the Curve = 71.54%\n"
     ]
    }
   ],
   "source": [
    "#Checking performance our model with classification report\n",
    "print(classification_report(y_test, y_pred_lr))\n",
    "\n",
    "#Checking performance our model with ROC Score\n",
    "roc_score_lr=roc_auc_score(y_test, y_pred_lr)\n",
    "print(\"Area Under the Curve = {:.2f}%\".format(roc_score_lr*100))"
   ]
  },
  {
   "cell_type": "code",
   "execution_count": 15,
   "metadata": {},
   "outputs": [
    {
     "name": "stdout",
     "output_type": "stream",
     "text": [
      "F1 score =72.95%\n",
      "Precision score =76.46%\n",
      "Recall score =71.54%\n"
     ]
    }
   ],
   "source": [
    "#Calculating F1, prescision and recall scores\n",
    "from sklearn.metrics import *\n",
    "\n",
    "print(\"F1 score ={:.2f}%\".format(f1_score(y_test, y_pred_lr, average=\"macro\")*100))\n",
    "print(\"Precision score ={:.2f}%\".format(precision_score(y_test, y_pred_lr, average=\"macro\")*100))\n",
    "print(\"Recall score ={:.2f}%\".format(recall_score(y_test, y_pred_lr, average=\"macro\")*100)) "
   ]
  },
  {
   "cell_type": "code",
   "execution_count": 16,
   "metadata": {},
   "outputs": [
    {
     "data": {
      "image/png": "[encoded data removed]",
      "text/plain": [
       "<Figure size 576x576 with 1 Axes>"
      ]
     },
     "metadata": {
      "needs_background": "light"
     },
     "output_type": "display_data"
    }
   ],
   "source": [
    "#Drawing the ROC curve \n",
    "import matplotlib.pyplot as plt\n",
    "from sklearn.metrics import roc_curve\n",
    "import numpy as np\n",
    "fpr_dt_1, tpr_dt_1,_=roc_curve(y_test,lr_best.predict_proba(X_test)[:,1])\n",
    "plt.plot(fpr_dt_1,tpr_dt_1,label=\"ROC curve\")\n",
    "plt.xlabel('False Positive Rate')\n",
    "plt.ylabel('True Positive Rate')\n",
    "plt.legend()\n",
    "plt.gcf().set_size_inches(8, 8)\n",
    "plt.show()"
   ]
  },
  {
   "cell_type": "markdown",
   "metadata": {},
   "source": [
    "# Random Forest"
   ]
  },
  {
   "cell_type": "code",
   "execution_count": 17,
   "metadata": {},
   "outputs": [
    {
     "data": {
      "text/plain": [
       "{'max_depth': 5,\n",
       " 'max_leaf_nodes': 10,\n",
       " 'min_samples_split': 20,\n",
       " 'n_estimators': 11}"
      ]
     },
     "execution_count": 17,
     "metadata": {},
     "output_type": "execute_result"
    }
   ],
   "source": [
    "#fitting models and checking accuracies\n",
    "from sklearn.ensemble import RandomForestClassifier\n",
    "rf=RandomForestClassifier(random_state=19)\n",
    "\n",
    "#List Hyperparameters that we want to tune.\n",
    "\n",
    "parameter_grid_rf={'n_estimators':[5,7,9,11],'max_depth':[3,4,5],'max_leaf_nodes':[10,15,20],'min_samples_split':[10,15,20,25]}\n",
    "gridsearch_rf = GridSearchCV(rf, parameter_grid_rf)\n",
    "gridsearch_rf.fit(X_train, y_train);\n",
    "\n",
    "#Get best hyperparameters\n",
    "gridsearch_rf.best_params_"
   ]
  },
  {
   "cell_type": "code",
   "execution_count": 18,
   "metadata": {},
   "outputs": [
    {
     "name": "stdout",
     "output_type": "stream",
     "text": [
      "Train accuracy =79.86%\n",
      "Test accuracy =79.17%\n"
     ]
    }
   ],
   "source": [
    "rf_best = RandomForestClassifier(max_depth=5,max_leaf_nodes=10,min_samples_split=20,n_estimators=11,random_state=19)\n",
    "rf_best.fit(X_train, y_train)\n",
    "\n",
    "train_acc_rf=rf_best.score(X_train,y_train)*100\n",
    "test_acc_rf=rf_best.score(X_test,y_test)*100\n",
    "print (\"Train accuracy ={:.2f}%\".format(rf_best.score(X_train,y_train)*100))\n",
    "print (\"Test accuracy ={:.2f}%\".format(rf_best.score(X_test,y_test)*100))"
   ]
  },
  {
   "cell_type": "code",
   "execution_count": 19,
   "metadata": {},
   "outputs": [
    {
     "name": "stdout",
     "output_type": "stream",
     "text": [
      "[[115  14]\n",
      " [ 26  37]]\n"
     ]
    }
   ],
   "source": [
    "y_pred_rf=rf_best.predict(X_test)\n",
    "\n",
    "#This is the confusion matrix:\n",
    "from sklearn.metrics import confusion_matrix\n",
    "print(confusion_matrix(y_test,y_pred_rf))"
   ]
  },
  {
   "cell_type": "code",
   "execution_count": 20,
   "metadata": {},
   "outputs": [
    {
     "name": "stdout",
     "output_type": "stream",
     "text": [
      "              precision    recall  f1-score   support\n",
      "\n",
      "           0       0.82      0.89      0.85       129\n",
      "           1       0.73      0.59      0.65        63\n",
      "\n",
      "    accuracy                           0.79       192\n",
      "   macro avg       0.77      0.74      0.75       192\n",
      "weighted avg       0.79      0.79      0.79       192\n",
      "\n",
      "Area Under the Curve = 73.94%\n"
     ]
    }
   ],
   "source": [
    "#Checking performance our model with classification report\n",
    "print(classification_report(y_test, y_pred_rf))\n",
    "\n",
    "#Checking performance our model with ROC Score\n",
    "roc_score_rf=roc_auc_score(y_test, y_pred_rf)\n",
    "print(\"Area Under the Curve = {:.2f}%\".format(roc_score_rf*100))"
   ]
  },
  {
   "cell_type": "code",
   "execution_count": 21,
   "metadata": {},
   "outputs": [
    {
     "name": "stdout",
     "output_type": "stream",
     "text": [
      "F1 score =75.05%\n",
      "Precision score =77.05%\n",
      "Recall score =73.94%\n"
     ]
    }
   ],
   "source": [
    "#Calculating F1, prescision and recall scores\n",
    "from sklearn.metrics import *\n",
    "\n",
    "print(\"F1 score ={:.2f}%\".format(f1_score(y_test, y_pred_rf, average=\"macro\")*100))\n",
    "f1_rf=f1_score(y_test, y_pred_rf, average=\"macro\")*100\n",
    "print(\"Precision score ={:.2f}%\".format(precision_score(y_test, y_pred_rf, average=\"macro\")*100))\n",
    "precision_rf=precision_score(y_test, y_pred_rf, average=\"macro\")*100\n",
    "print(\"Recall score ={:.2f}%\".format(recall_score(y_test, y_pred_rf, average=\"macro\")*100)) \n",
    "recall_rf=recall_score(y_test, y_pred_rf, average=\"macro\")*100"
   ]
  },
  {
   "cell_type": "code",
   "execution_count": 22,
   "metadata": {},
   "outputs": [
    {
     "data": {
      "image/png": "[encoded data removed]",
      "text/plain": [
       "<Figure size 576x576 with 1 Axes>"
      ]
     },
     "metadata": {
      "needs_background": "light"
     },
     "output_type": "display_data"
    }
   ],
   "source": [
    "#Drawing the ROC curve \n",
    "import matplotlib.pyplot as plt\n",
    "from sklearn.metrics import roc_curve\n",
    "import numpy as np\n",
    "fpr_dt_1, tpr_dt_1,_=roc_curve(y_test,rf_best.predict_proba(X_test)[:,1])\n",
    "plt.plot(fpr_dt_1,tpr_dt_1,label=\"ROC curve\")\n",
    "plt.xlabel('False Positive Rate')\n",
    "plt.ylabel('True Positive Rate')\n",
    "plt.legend()\n",
    "plt.gcf().set_size_inches(8, 8)\n",
    "plt.show()"
   ]
  },
  {
   "cell_type": "markdown",
   "metadata": {},
   "source": [
    "# XGBOOST"
   ]
  },
  {
   "cell_type": "code",
   "execution_count": 23,
   "metadata": {},
   "outputs": [
    {
     "data": {
      "text/plain": [
       "{'gamma': 0.1, 'learning_rate': 0.2, 'max_depth': 3}"
      ]
     },
     "execution_count": 23,
     "metadata": {},
     "output_type": "execute_result"
    }
   ],
   "source": [
    "from xgboost import XGBClassifier\n",
    "xg=XGBClassifier(random_state=19)\n",
    "\n",
    "#List Hyperparameters that we want to tune.\n",
    "\n",
    "parameter_grid_xg={'learning_rate':[0.05, 0.10, 0.15, 0.20],'max_depth':[3,4,5],'gamma':[ 0.0, 0.1, 0.2 , 0.3]}\n",
    "gridsearch_xg = GridSearchCV(xg, parameter_grid_xg)\n",
    "gridsearch_xg.fit(X_train, y_train);\n",
    "\n",
    "#Get best hyperparameters\n",
    "gridsearch_xg.best_params_"
   ]
  },
  {
   "cell_type": "code",
   "execution_count": 24,
   "metadata": {},
   "outputs": [
    {
     "name": "stdout",
     "output_type": "stream",
     "text": [
      "Train accuracy =95.14%\n",
      "Test accuracy =79.69%\n"
     ]
    }
   ],
   "source": [
    "xg_best =XGBClassifier(gamma=0.1,learning_rate=0.2,max_depth=3,random_state=19)\n",
    "xg_best.fit(X_train, y_train)\n",
    "\n",
    "train_acc_xg=xg_best.score(X_train,y_train)*100\n",
    "test_acc_xg=xg_best.score(X_test,y_test)*100\n",
    "print (\"Train accuracy ={:.2f}%\".format(xg_best.score(X_train,y_train)*100))\n",
    "print (\"Test accuracy ={:.2f}%\".format(xg_best.score(X_test,y_test)*100))"
   ]
  },
  {
   "cell_type": "code",
   "execution_count": 25,
   "metadata": {},
   "outputs": [
    {
     "name": "stdout",
     "output_type": "stream",
     "text": [
      "[[113  16]\n",
      " [ 23  40]]\n"
     ]
    }
   ],
   "source": [
    "y_pred_xg=xg_best.predict(X_test)\n",
    "\n",
    "#This is the confusion matrix:\n",
    "from sklearn.metrics import confusion_matrix\n",
    "print(confusion_matrix(y_test,y_pred_xg))"
   ]
  },
  {
   "cell_type": "code",
   "execution_count": 26,
   "metadata": {},
   "outputs": [
    {
     "name": "stdout",
     "output_type": "stream",
     "text": [
      "              precision    recall  f1-score   support\n",
      "\n",
      "           0       0.83      0.88      0.85       129\n",
      "           1       0.71      0.63      0.67        63\n",
      "\n",
      "    accuracy                           0.80       192\n",
      "   macro avg       0.77      0.76      0.76       192\n",
      "weighted avg       0.79      0.80      0.79       192\n",
      "\n",
      "Area Under the Curve = 75.54%\n"
     ]
    }
   ],
   "source": [
    "#Checking performance our model with classification report\n",
    "print(classification_report(y_test, y_pred_xg))\n",
    "\n",
    "#Checking performance our model with ROC Score\n",
    "roc_score_xg=roc_auc_score(y_test, y_pred_xg)\n",
    "print(\"Area Under the Curve = {:.2f}%\".format(roc_score_xg*100))"
   ]
  },
  {
   "cell_type": "code",
   "execution_count": 27,
   "metadata": {},
   "outputs": [
    {
     "name": "stdout",
     "output_type": "stream",
     "text": [
      "F1 score =76.25%\n",
      "Precision score =77.26%\n",
      "Recall score =75.54%\n"
     ]
    }
   ],
   "source": [
    "#Calculating F1, prescision and recall scores\n",
    "from sklearn.metrics import *\n",
    "\n",
    "print(\"F1 score ={:.2f}%\".format(f1_score(y_test, y_pred_xg, average=\"macro\")*100))\n",
    "f1_xg=f1_score(y_test, y_pred_xg, average=\"macro\")*100\n",
    "print(\"Precision score ={:.2f}%\".format(precision_score(y_test, y_pred_xg, average=\"macro\")*100))\n",
    "precision_xg=precision_score(y_test, y_pred_xg, average=\"macro\")*100\n",
    "print(\"Recall score ={:.2f}%\".format(recall_score(y_test, y_pred_xg, average=\"macro\")*100)) \n",
    "recall_xg=recall_score(y_test, y_pred_xg, average=\"macro\")*100"
   ]
  },
  {
   "cell_type": "code",
   "execution_count": 28,
   "metadata": {},
   "outputs": [
    {
     "data": {
      "image/png": "[encoded data removed]",
      "text/plain": [
       "<Figure size 576x576 with 1 Axes>"
      ]
     },
     "metadata": {
      "needs_background": "light"
     },
     "output_type": "display_data"
    }
   ],
   "source": [
    "#Drawing the ROC curve \n",
    "import matplotlib.pyplot as plt\n",
    "from sklearn.metrics import roc_curve\n",
    "import numpy as np\n",
    "fpr_dt_1, tpr_dt_1,_=roc_curve(y_test,xg_best.predict_proba(X_test)[:,1])\n",
    "plt.plot(fpr_dt_1,tpr_dt_1,label=\"ROC curve\")\n",
    "plt.xlabel('False Positive Rate')\n",
    "plt.ylabel('True Positive Rate')\n",
    "plt.legend()\n",
    "plt.gcf().set_size_inches(8, 8)\n",
    "plt.show()"
   ]
  },
  {
   "cell_type": "markdown",
   "metadata": {},
   "source": [
    "# SVM"
   ]
  },
  {
   "cell_type": "code",
   "execution_count": 29,
   "metadata": {},
   "outputs": [
    {
     "data": {
      "text/plain": [
       "{'C': 0.2, 'gamma': 0.1, 'kernel': 'rbf'}"
      ]
     },
     "execution_count": 29,
     "metadata": {},
     "output_type": "execute_result"
    }
   ],
   "source": [
    "from sklearn import svm\n",
    "\n",
    "#List Hyperparameters that we want to tune.\n",
    "model_svm = svm.SVC(probability=True,random_state=19) \n",
    "\n",
    "parameter_grid_svm={'C':[0.05,0.1,0.2],'kernel':['rbf','linear'],'gamma':[0.1,0.2,0.3]}\n",
    "gridsearch_svm = GridSearchCV(model_svm, parameter_grid_svm)\n",
    "gridsearch_svm.fit(X_train, y_train);\n",
    "\n",
    "#Get best hyperparameters\n",
    "gridsearch_svm.best_params_"
   ]
  },
  {
   "cell_type": "code",
   "execution_count": 30,
   "metadata": {},
   "outputs": [
    {
     "name": "stdout",
     "output_type": "stream",
     "text": [
      "Train accuracy =78.47%\n",
      "Test accuracy =77.60%\n"
     ]
    }
   ],
   "source": [
    "svm_best =svm.SVC(C=0.2,gamma=0.1,kernel='rbf',probability=True,random_state=19) \n",
    "svm_best.fit(X_train, y_train)\n",
    "\n",
    "train_acc_svm=svm_best.score(X_train,y_train)*100\n",
    "test_acc_svm=svm_best.score(X_test,y_test)*100\n",
    "print (\"Train accuracy ={:.2f}%\".format(svm_best.score(X_train,y_train)*100))\n",
    "print (\"Test accuracy ={:.2f}%\".format(svm_best.score(X_test,y_test)*100))"
   ]
  },
  {
   "cell_type": "code",
   "execution_count": 31,
   "metadata": {},
   "outputs": [
    {
     "name": "stdout",
     "output_type": "stream",
     "text": [
      "[[119  10]\n",
      " [ 33  30]]\n"
     ]
    }
   ],
   "source": [
    "y_pred_svm=svm_best.predict(X_test)\n",
    "\n",
    "#This is the confusion matrix:\n",
    "from sklearn.metrics import confusion_matrix\n",
    "print(confusion_matrix(y_test,y_pred_svm))"
   ]
  },
  {
   "cell_type": "code",
   "execution_count": 32,
   "metadata": {},
   "outputs": [
    {
     "name": "stdout",
     "output_type": "stream",
     "text": [
      "              precision    recall  f1-score   support\n",
      "\n",
      "           0       0.78      0.92      0.85       129\n",
      "           1       0.75      0.48      0.58        63\n",
      "\n",
      "    accuracy                           0.78       192\n",
      "   macro avg       0.77      0.70      0.71       192\n",
      "weighted avg       0.77      0.78      0.76       192\n",
      "\n",
      "Area Under the Curve = 69.93%\n"
     ]
    }
   ],
   "source": [
    "#Checking performance our model with classification report\n",
    "print(classification_report(y_test, y_pred_svm))\n",
    "\n",
    "#Checking performance our model with ROC Score\n",
    "roc_score_svm=roc_auc_score(y_test, y_pred_svm)\n",
    "print(\"Area Under the Curve = {:.2f}%\".format(roc_score_svm*100))"
   ]
  },
  {
   "cell_type": "code",
   "execution_count": 33,
   "metadata": {},
   "outputs": [
    {
     "name": "stdout",
     "output_type": "stream",
     "text": [
      "F1 score =71.47%\n",
      "Precision score =76.64%\n",
      "Recall score =69.93%\n"
     ]
    }
   ],
   "source": [
    "#Calculating F1, prescision and recall scores\n",
    "from sklearn.metrics import *\n",
    "\n",
    "print(\"F1 score ={:.2f}%\".format(f1_score(y_test, y_pred_svm, average=\"macro\")*100))\n",
    "print(\"Precision score ={:.2f}%\".format(precision_score(y_test, y_pred_svm, average=\"macro\")*100))\n",
    "print(\"Recall score ={:.2f}%\".format(recall_score(y_test, y_pred_svm, average=\"macro\")*100))  "
   ]
  },
  {
   "cell_type": "code",
   "execution_count": 34,
   "metadata": {},
   "outputs": [
    {
     "data": {
      "image/png": "[encoded data removed]",
      "text/plain": [
       "<Figure size 576x576 with 1 Axes>"
      ]
     },
     "metadata": {
      "needs_background": "light"
     },
     "output_type": "display_data"
    }
   ],
   "source": [
    "#Drawing the ROC curve \n",
    "import matplotlib.pyplot as plt\n",
    "from sklearn.metrics import roc_curve\n",
    "import numpy as np\n",
    "fpr_dt_1, tpr_dt_1,_=roc_curve(y_test,svm_best.predict_proba(X_test)[:,1])\n",
    "plt.plot(fpr_dt_1,tpr_dt_1,label=\"ROC curve\")\n",
    "plt.xlabel('False Positive Rate')\n",
    "plt.ylabel('True Positive Rate')\n",
    "plt.legend()\n",
    "plt.gcf().set_size_inches(8, 8)\n",
    "plt.show()"
   ]
  },
  {
   "cell_type": "markdown",
   "metadata": {},
   "source": [
    "# KNN"
   ]
  },
  {
   "cell_type": "code",
   "execution_count": 35,
   "metadata": {},
   "outputs": [
    {
     "data": {
      "text/plain": [
       "{'n_neighbors': 33, 'p': 2}"
      ]
     },
     "execution_count": 35,
     "metadata": {},
     "output_type": "execute_result"
    }
   ],
   "source": [
    "from sklearn.neighbors import KNeighborsClassifier\n",
    "from math import *\n",
    "k = sqrt(768)\n",
    "k=round(k) #k=28 #range because we got k=28 for 768 observations\n",
    "\n",
    "knn = KNeighborsClassifier()\n",
    "\n",
    "#List Hyperparameters that we want to tune.\n",
    "\n",
    "parameter_grid_knn={'n_neighbors': list(range(25,35)),'p':[1,2]}\n",
    "gridsearch_knn = GridSearchCV(knn, parameter_grid_knn)\n",
    "gridsearch_knn.fit(X_train, y_train);\n",
    "\n",
    "#Get best hyperparameters\n",
    "gridsearch_knn.best_params_"
   ]
  },
  {
   "cell_type": "code",
   "execution_count": 36,
   "metadata": {},
   "outputs": [
    {
     "name": "stdout",
     "output_type": "stream",
     "text": [
      "Train accuracy =81.60%\n",
      "Test accuracy =75.52%\n"
     ]
    }
   ],
   "source": [
    "knn_best = KNeighborsClassifier() \n",
    "knn_best.fit(X_train, y_train)\n",
    "\n",
    "train_acc_knn=knn_best.score(X_train,y_train)*100\n",
    "test_acc_knn=knn_best.score(X_test,y_test)*100\n",
    "print (\"Train accuracy ={:.2f}%\".format(knn_best.score(X_train,y_train)*100))\n",
    "print (\"Test accuracy ={:.2f}%\".format(knn_best.score(X_test,y_test)*100))"
   ]
  },
  {
   "cell_type": "code",
   "execution_count": 37,
   "metadata": {},
   "outputs": [
    {
     "name": "stdout",
     "output_type": "stream",
     "text": [
      "[[115  14]\n",
      " [ 33  30]]\n"
     ]
    }
   ],
   "source": [
    "y_pred_knn=knn_best.predict(X_test)\n",
    "\n",
    "#This is the confusion matrix:\n",
    "from sklearn.metrics import confusion_matrix\n",
    "print(confusion_matrix(y_test,y_pred_knn))"
   ]
  },
  {
   "cell_type": "code",
   "execution_count": 38,
   "metadata": {},
   "outputs": [
    {
     "name": "stdout",
     "output_type": "stream",
     "text": [
      "              precision    recall  f1-score   support\n",
      "\n",
      "           0       0.78      0.89      0.83       129\n",
      "           1       0.68      0.48      0.56        63\n",
      "\n",
      "    accuracy                           0.76       192\n",
      "   macro avg       0.73      0.68      0.70       192\n",
      "weighted avg       0.75      0.76      0.74       192\n",
      "\n",
      "Area Under the Curve = 68.38%\n"
     ]
    }
   ],
   "source": [
    "#Checking performance our model with classification report\n",
    "print(classification_report(y_test, y_pred_knn))\n",
    "\n",
    "#Checking performance our model with ROC Score\n",
    "roc_score_knn=roc_auc_score(y_test, y_pred_knn)\n",
    "print(\"Area Under the Curve = {:.2f}%\".format(roc_score_knn*100))"
   ]
  },
  {
   "cell_type": "code",
   "execution_count": 39,
   "metadata": {},
   "outputs": [
    {
     "name": "stdout",
     "output_type": "stream",
     "text": [
      "F1 score =69.55%\n",
      "Precision score =72.94%\n",
      "Recall score =68.38%\n"
     ]
    }
   ],
   "source": [
    "#Calculating F1, prescision and recall scores\n",
    "from sklearn.metrics import *\n",
    "\n",
    "print(\"F1 score ={:.2f}%\".format(f1_score(y_test, y_pred_knn, average=\"macro\")*100))\n",
    "print(\"Precision score ={:.2f}%\".format(precision_score(y_test, y_pred_knn, average=\"macro\")*100))\n",
    "print(\"Recall score ={:.2f}%\".format(recall_score(y_test, y_pred_knn, average=\"macro\")*100))  "
   ]
  },
  {
   "cell_type": "code",
   "execution_count": 40,
   "metadata": {},
   "outputs": [
    {
     "data": {
      "image/png": "[encoded data removed]",
      "text/plain": [
       "<Figure size 576x576 with 1 Axes>"
      ]
     },
     "metadata": {
      "needs_background": "light"
     },
     "output_type": "display_data"
    }
   ],
   "source": [
    "#Drawing the ROC curve \n",
    "import matplotlib.pyplot as plt\n",
    "from sklearn.metrics import roc_curve\n",
    "import numpy as np\n",
    "fpr_dt_1, tpr_dt_1,_=roc_curve(y_test,knn_best.predict_proba(X_test)[:,1])\n",
    "plt.plot(fpr_dt_1,tpr_dt_1,label=\"ROC curve\")\n",
    "plt.xlabel('False Positive Rate')\n",
    "plt.ylabel('True Positive Rate')\n",
    "plt.legend()\n",
    "plt.gcf().set_size_inches(8, 8)\n",
    "plt.show()"
   ]
  },
  {
   "cell_type": "markdown",
   "metadata": {},
   "source": [
    "# Comparing accuracies of all the algorithms"
   ]
  },
  {
   "cell_type": "code",
   "execution_count": 41,
   "metadata": {},
   "outputs": [
    {
     "data": {
      "image/png": "[encoded data removed]",
      "text/plain": [
       "<Figure size 1152x576 with 1 Axes>"
      ]
     },
     "metadata": {
      "needs_background": "light"
     },
     "output_type": "display_data"
    }
   ],
   "source": [
    "import matplotlib\n",
    "import matplotlib.pyplot as plt\n",
    "import numpy as np\n",
    "\n",
    "# set width of bar\n",
    "#barWidth = 0.25\n",
    "\n",
    "train_accuracies = [train_acc_knn,train_acc_lr,train_acc_rf,train_acc_xg,train_acc_svm]\n",
    "test_accuracies  = [test_acc_knn,test_acc_lr,test_acc_rf,test_acc_xg,test_acc_svm]\n",
    "\n",
    "labels = ['KNN', 'LogisticRegression', 'RandomForest','XGBoost','SVM']\n",
    "x = np.arange(len(labels))  # the label locations\n",
    "width = 0.35  # the width of the bars\n",
    "\n",
    "fig, ax = plt.subplots()\n",
    "rec1 = ax.bar(x - width/2, train_accuracies, width, label='train accuracy')\n",
    "rec2 = ax.bar(x + width/2, test_accuracies, width, label='test accuracy')\n",
    "\n",
    "\n",
    "ax.set_ylabel('Accuracy')\n",
    "ax.set_title('Accuracy score comparison of all different models ')\n",
    "ax.set_xticks(x)\n",
    "ax.set_xticklabels(labels)\n",
    "ax.legend(loc='best')\n",
    "\n",
    "plt.gcf().set_size_inches(16, 8)\n",
    "plt.show()"
   ]
  },
  {
   "cell_type": "markdown",
   "metadata": {},
   "source": [
    "# Comparing the accuracy, F1, precision and recall scores of the two best performing algorithms (XGBoost and RandomForest)"
   ]
  },
  {
   "cell_type": "code",
   "execution_count": 42,
   "metadata": {},
   "outputs": [
    {
     "data": {
      "image/png": "[encoded data removed]",
      "text/plain": [
       "<Figure size 1152x576 with 1 Axes>"
      ]
     },
     "metadata": {
      "needs_background": "light"
     },
     "output_type": "display_data"
    }
   ],
   "source": [
    "import matplotlib\n",
    "import matplotlib.pyplot as plt\n",
    "import numpy as np\n",
    "\n",
    "# set width of bar\n",
    "#barWidth = 0.25\n",
    "\n",
    "test_accuracies  = [test_acc_xg,test_acc_rf]\n",
    "precision_scores = [precision_xg,precision_rf]\n",
    "recall_scores = [recall_xg,recall_rf]\n",
    "f1_scores = [f1_xg,f1_rf]\n",
    "\n",
    "labels = ['XGboost','RandomForest']\n",
    "x = np.arange(len(labels))  # the label locations\n",
    "width = 0.15  # the width of the bars\n",
    "\n",
    "fig, ax = plt.subplots()\n",
    "rec1 = ax.bar(x , test_accuracies, width, label='Accuracy')\n",
    "rec2 = ax.bar(x + width, precision_scores, width, label='Precision')\n",
    "rec3 = ax.bar(x + width*2, recall_scores, width, label='Recall')\n",
    "rec4 = ax.bar(x + width*3, f1_scores, width, label='F1 Score')\n",
    "\n",
    "\n",
    "ax.set_title('Comparing the accuracy, F1, precison and recall scores of the two best performing algorithms (XGBoost and RandomForest)')\n",
    "ax.set_xticks(x+width)\n",
    "ax.set_xticklabels(labels)\n",
    "ax.legend(loc='best')\n",
    "\n",
    "plt.gcf().set_size_inches(16, 8)\n",
    "plt.show()"
   ]
  },
  {
   "cell_type": "code",
   "execution_count": null,
   "metadata": {},
   "outputs": [],
   "source": []
  }
 ],
 "metadata": {
  "kernelspec": {
   "display_name": "Python 3",
   "language": "python",
   "name": "python3"
  },
  "language_info": {
   "codemirror_mode": {
    "name": "ipython",
    "version": 3
   },
   "file_extension": ".py",
   "mimetype": "text/x-python",
   "name": "python",
   "nbconvert_exporter": "python",
   "pygments_lexer": "ipython3",
   "version": "3.7.7"
  }
 },
 "nbformat": 4,
 "nbformat_minor": 4
}
